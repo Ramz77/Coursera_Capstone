{
    "cells": [
        {
            "cell_type": "markdown",
            "metadata": {
                "collapsed": true
            },
            "source": "# The Battle of Neighbourhoods\n\n\n## Table of Contents  \nThis report is presented in the following parts as shown below:  \n    1. Introduction  \n    2. Data   \n    3. Methodology  \n    4. Result  \n    5. Discussion and Conclusion  \n\n## 1. Introduction  \n### 1.1 Description of the Problem  \nThe population of London has grown considerably over the last decades. London is very diverse. It represents what is called the reflection of the old British Empire. In London, you can get fresh food supplies from Africa. One begins to wonder how efficient the supply mechanism is.\n\nThe real deal is that as much as there are many fine restaurants in London \u2013 Asian, Middle Eastern, Latin and American restaurants, you can struggle to find good place to dine in the finest of West African cuisine that has combination of Nigerian, Ghanaian, Cameroonian, Senegalese and more."
        },
        {
            "cell_type": "markdown",
            "metadata": {},
            "source": "### 1.2 Discussion of the Background\nMy client, a successful restaurant chain in Africa is looking to expand operation into Europe through London. They want to create a high-end restaurant that comes with organic mix and healthy. Their target is not only West Africans, but they are pro-organic and healthy eating. To them every meal counts and counts as a royal when you eat.\n\nSince the London demography is so big, my client needs deeper insight from available data in other to decide where to establish the first Europe \u201cpalace\u201d restaurant. This company spends a lot on research and provides customers with data insight into the ingredients used at restaurants.\n\n### 1.3 Target Audience\nConsidering the diversity of London, there is a high multicultural sense. London is a place where different shades live. As such, in the search for an high-end African-inclined restaurant, there is a high shortage. The target audience is broad, it ranges from Londoners, tourists and those who are passionate about organic food."
        },
        {
            "cell_type": "markdown",
            "metadata": {},
            "source": "## 2. Data\n### 2.1 Description of Data\nThis project will rely on public data from Wikipedia and Foursquare.\n\n#### 2.1.1 Dataset 1:\nIn this project, London will be used as synonymous to the \"Greater London Area\" in this project. Within the Greater London Area, there are areas that are within the London Area Postcode. The focus of this project will be the nieghbourhoods are that are within the London Post Code area.\n\nThe London Area consists of 32 Boroughs and the \"City of London\". Our data will be from the link - Greater London Area <https://en.wikipedia.org/wiki/List_of_areas_of_London >\n\nThe web scrapped of the Wikipedia page for the Greater London Area data is provided below:"
        },
        {
            "cell_type": "code",
            "execution_count": 1,
            "metadata": {},
            "outputs": [
                {
                    "name": "stdout",
                    "output_type": "stream",
                    "text": "numpy, pandas, ..., imported...\ngeopy installed...\nNominatim imported...\n"
                }
            ],
            "source": "from bs4 import BeautifulSoup\n\n# library to handle data in a vectorized manner\nimport numpy as np\n\n# library for data analsysis\nimport pandas as pd\npd.set_option('display.max_columns', None)\npd.set_option('display.max_rows', None)\n\n# library to handle JSON files\nimport json\nprint('numpy, pandas, ..., imported...')\n\n!pip -q install geopy\n# conda install -c conda-forge geopy --yes # uncomment this line if you haven't completed the Foursquare API lab\nprint('geopy installed...')\n# convert an address into latitude and longitude values\nfrom geopy.geocoders import Nominatim\nprint('Nominatim imported...')"
        },
        {
            "cell_type": "code",
            "execution_count": 2,
            "metadata": {},
            "outputs": [
                {
                    "name": "stdout",
                    "output_type": "stream",
                    "text": "requests imported...\njson_normalize imported...\nmatplotlib imported...\nKmeans imported...\nfolium installed...\nfolium imported...\n...Done\n"
                }
            ],
            "source": "# library to handle requests\nimport requests\nprint('requests imported...')\n\n# tranform JSON file into a pandas dataframe\nfrom pandas.io.json import json_normalize\nprint('json_normalize imported...')\n\n# Matplotlib and associated plotting modules\nimport matplotlib.cm as cm\nimport matplotlib.colors as colors\nprint('matplotlib imported...')\n\n# import k-means from clustering stage\nfrom sklearn.cluster import KMeans\nprint('Kmeans imported...')\n\n# install the Geocoder\n!pip -q install geocoder\nimport geocoder\n\n# import time\nimport time\n\n# !conda install -c conda-forge folium=0.5.0 --yes # uncomment this line if you haven't completed the Foursquare API lab\n!pip -q install folium\nprint('folium installed...')\nimport folium # map rendering library\nprint('folium imported...')\nprint('...Done')"
        },
        {
            "cell_type": "code",
            "execution_count": 3,
            "metadata": {},
            "outputs": [
                {
                    "data": {
                        "text/plain": "<Response [200]>"
                    },
                    "execution_count": 3,
                    "metadata": {},
                    "output_type": "execute_result"
                }
            ],
            "source": "wikipedia_link = 'https://en.wikipedia.org/wiki/List_of_areas_of_London'\nheaders = {'User-Agent': 'Mozilla/5.0 (Windows NT 10.0; Win64; x64; rv:64.0) Gecko/20100101 Firefox/64.0'}\nwikipedia_page = requests.get(wikipedia_link, headers = headers)\nwikipedia_page"
        },
        {
            "cell_type": "code",
            "execution_count": 4,
            "metadata": {},
            "outputs": [],
            "source": "# Cleans html file\nsoup = BeautifulSoup(wikipedia_page.content, 'html.parser')\n# This extracts the \"tbody\" within the table where class is \"wikitable sortable\"\ntable = soup.find('table', {'class':'wikitable sortable'}).tbody"
        },
        {
            "cell_type": "code",
            "execution_count": 5,
            "metadata": {},
            "outputs": [],
            "source": "# Extracts all \"tr\" (table rows) within the table above\nrows = table.find_all('tr')"
        },
        {
            "cell_type": "code",
            "execution_count": 6,
            "metadata": {},
            "outputs": [],
            "source": "# Extracts the column headers, removes and replaces possible '\\n' with space for the \"th\" tag\ncolumns = [i.text.replace('\\n', '')\n           for i in rows[0].find_all('th')]"
        },
        {
            "cell_type": "code",
            "execution_count": 7,
            "metadata": {},
            "outputs": [
                {
                    "data": {
                        "text/html": "<div>\n<style scoped>\n    .dataframe tbody tr th:only-of-type {\n        vertical-align: middle;\n    }\n\n    .dataframe tbody tr th {\n        vertical-align: top;\n    }\n\n    .dataframe thead th {\n        text-align: right;\n    }\n</style>\n<table border=\"1\" class=\"dataframe\">\n  <thead>\n    <tr style=\"text-align: right;\">\n      <th></th>\n      <th>Location</th>\n      <th>London\u00a0borough</th>\n      <th>Post town</th>\n      <th>Postcode\u00a0district</th>\n      <th>Dial\u00a0code</th>\n      <th>OS grid ref</th>\n    </tr>\n  </thead>\n  <tbody>\n  </tbody>\n</table>\n</div>",
                        "text/plain": "Empty DataFrame\nColumns: [Location, London\u00a0borough, Post town, Postcode\u00a0district, Dial\u00a0code, OS grid ref]\nIndex: []"
                    },
                    "execution_count": 7,
                    "metadata": {},
                    "output_type": "execute_result"
                }
            ],
            "source": "# Converts columns to pd dataframe\ndf = pd.DataFrame(columns = columns)\ndf"
        },
        {
            "cell_type": "code",
            "execution_count": 8,
            "metadata": {},
            "outputs": [],
            "source": "\n# Extracts every row with corresponding columns\n# Then appends the values to the create pd dataframe \"df\"\n# Please note that the first row (row[0]) is skipped because it is already the header\nfor i in range(1, len(rows)):\n    tds = rows[i].find_all('td')\n    \n    \n    if len(tds) == 7:\n        values = [tds[0].text, tds[1].text, tds[2].text.replace('\\n', ''.replace('\\xa0','')), tds[3].text, tds[4].text.replace('\\n', ''.replace('\\xa0','')), tds[5].text.replace('\\n', ''.replace('\\xa0','')), tds[6].text.replace('\\n', ''.replace('\\xa0',''))]\n    else:\n        values = [td.text.replace('\\n', '').replace('\\xa0','') for td in tds]\n        \n        df = df.append(pd.Series(values, index = columns), ignore_index = True)\n\n        df"
        },
        {
            "cell_type": "code",
            "execution_count": 9,
            "metadata": {},
            "outputs": [
                {
                    "data": {
                        "text/html": "<div>\n<style scoped>\n    .dataframe tbody tr th:only-of-type {\n        vertical-align: middle;\n    }\n\n    .dataframe tbody tr th {\n        vertical-align: top;\n    }\n\n    .dataframe thead th {\n        text-align: right;\n    }\n</style>\n<table border=\"1\" class=\"dataframe\">\n  <thead>\n    <tr style=\"text-align: right;\">\n      <th></th>\n      <th>Location</th>\n      <th>London\u00a0borough</th>\n      <th>Post town</th>\n      <th>Postcode\u00a0district</th>\n      <th>Dial\u00a0code</th>\n      <th>OS grid ref</th>\n    </tr>\n  </thead>\n  <tbody>\n    <tr>\n      <th>0</th>\n      <td>Abbey Wood</td>\n      <td>Bexley,  Greenwich [7]</td>\n      <td>LONDON</td>\n      <td>SE2</td>\n      <td>020</td>\n      <td>TQ465785</td>\n    </tr>\n    <tr>\n      <th>1</th>\n      <td>Acton</td>\n      <td>Ealing, Hammersmith and Fulham[8]</td>\n      <td>LONDON</td>\n      <td>W3, W4</td>\n      <td>020</td>\n      <td>TQ205805</td>\n    </tr>\n    <tr>\n      <th>2</th>\n      <td>Addington</td>\n      <td>Croydon[8]</td>\n      <td>CROYDON</td>\n      <td>CR0</td>\n      <td>020</td>\n      <td>TQ375645</td>\n    </tr>\n    <tr>\n      <th>3</th>\n      <td>Addiscombe</td>\n      <td>Croydon[8]</td>\n      <td>CROYDON</td>\n      <td>CR0</td>\n      <td>020</td>\n      <td>TQ345665</td>\n    </tr>\n    <tr>\n      <th>4</th>\n      <td>Albany Park</td>\n      <td>Bexley</td>\n      <td>BEXLEY, SIDCUP</td>\n      <td>DA5, DA14</td>\n      <td>020</td>\n      <td>TQ478728</td>\n    </tr>\n  </tbody>\n</table>\n</div>",
                        "text/plain": "      Location                     London\u00a0borough       Post town  \\\n0   Abbey Wood             Bexley,  Greenwich [7]          LONDON   \n1        Acton  Ealing, Hammersmith and Fulham[8]          LONDON   \n2    Addington                         Croydon[8]         CROYDON   \n3   Addiscombe                         Croydon[8]         CROYDON   \n4  Albany Park                             Bexley  BEXLEY, SIDCUP   \n\n  Postcode\u00a0district Dial\u00a0code OS grid ref  \n0               SE2       020    TQ465785  \n1            W3, W4       020    TQ205805  \n2               CR0       020    TQ375645  \n3               CR0       020    TQ345665  \n4         DA5, DA14       020    TQ478728  "
                    },
                    "execution_count": 9,
                    "metadata": {},
                    "output_type": "execute_result"
                }
            ],
            "source": "df.head(5)"
        },
        {
            "cell_type": "code",
            "execution_count": 10,
            "metadata": {},
            "outputs": [],
            "source": "\ndf = df.rename(index=str, columns = {'Location': 'Location', 'London\\xa0borough': 'Borough', 'Post town': 'Post-town', 'Postcode\\xa0district': 'Postcode', 'Dial\\xa0code': 'Dial-code', 'OS grid ref': 'OSGridRef'})"
        },
        {
            "cell_type": "code",
            "execution_count": 11,
            "metadata": {},
            "outputs": [
                {
                    "data": {
                        "text/html": "<div>\n<style scoped>\n    .dataframe tbody tr th:only-of-type {\n        vertical-align: middle;\n    }\n\n    .dataframe tbody tr th {\n        vertical-align: top;\n    }\n\n    .dataframe thead th {\n        text-align: right;\n    }\n</style>\n<table border=\"1\" class=\"dataframe\">\n  <thead>\n    <tr style=\"text-align: right;\">\n      <th></th>\n      <th>Location</th>\n      <th>Borough</th>\n      <th>Post-town</th>\n      <th>Postcode</th>\n      <th>Dial-code</th>\n      <th>OSGridRef</th>\n    </tr>\n  </thead>\n  <tbody>\n    <tr>\n      <th>0</th>\n      <td>Abbey Wood</td>\n      <td>Bexley,  Greenwich [7]</td>\n      <td>LONDON</td>\n      <td>SE2</td>\n      <td>020</td>\n      <td>TQ465785</td>\n    </tr>\n    <tr>\n      <th>1</th>\n      <td>Acton</td>\n      <td>Ealing, Hammersmith and Fulham[8]</td>\n      <td>LONDON</td>\n      <td>W3, W4</td>\n      <td>020</td>\n      <td>TQ205805</td>\n    </tr>\n    <tr>\n      <th>2</th>\n      <td>Addington</td>\n      <td>Croydon[8]</td>\n      <td>CROYDON</td>\n      <td>CR0</td>\n      <td>020</td>\n      <td>TQ375645</td>\n    </tr>\n    <tr>\n      <th>3</th>\n      <td>Addiscombe</td>\n      <td>Croydon[8]</td>\n      <td>CROYDON</td>\n      <td>CR0</td>\n      <td>020</td>\n      <td>TQ345665</td>\n    </tr>\n    <tr>\n      <th>4</th>\n      <td>Albany Park</td>\n      <td>Bexley</td>\n      <td>BEXLEY, SIDCUP</td>\n      <td>DA5, DA14</td>\n      <td>020</td>\n      <td>TQ478728</td>\n    </tr>\n  </tbody>\n</table>\n</div>",
                        "text/plain": "      Location                            Borough       Post-town   Postcode  \\\n0   Abbey Wood             Bexley,  Greenwich [7]          LONDON        SE2   \n1        Acton  Ealing, Hammersmith and Fulham[8]          LONDON     W3, W4   \n2    Addington                         Croydon[8]         CROYDON        CR0   \n3   Addiscombe                         Croydon[8]         CROYDON        CR0   \n4  Albany Park                             Bexley  BEXLEY, SIDCUP  DA5, DA14   \n\n  Dial-code OSGridRef  \n0       020  TQ465785  \n1       020  TQ205805  \n2       020  TQ375645  \n3       020  TQ345665  \n4       020  TQ478728  "
                    },
                    "execution_count": 11,
                    "metadata": {},
                    "output_type": "execute_result"
                }
            ],
            "source": "df.head(5)"
        },
        {
            "cell_type": "markdown",
            "metadata": {},
            "source": "Looking the data, under the Borough, there are borough names with []. These are references extracted from the wiki page. So remove these, the following was done:"
        },
        {
            "cell_type": "code",
            "execution_count": 12,
            "metadata": {},
            "outputs": [],
            "source": "df['Borough'] = df['Borough'].map(lambda x: x.rstrip(']').rstrip('0123456789').rstrip('['))"
        },
        {
            "cell_type": "code",
            "execution_count": 13,
            "metadata": {},
            "outputs": [
                {
                    "data": {
                        "text/plain": "(533, 6)"
                    },
                    "execution_count": 13,
                    "metadata": {},
                    "output_type": "execute_result"
                }
            ],
            "source": "df.shape"
        },
        {
            "cell_type": "code",
            "execution_count": 14,
            "metadata": {},
            "outputs": [
                {
                    "data": {
                        "text/html": "<div>\n<style scoped>\n    .dataframe tbody tr th:only-of-type {\n        vertical-align: middle;\n    }\n\n    .dataframe tbody tr th {\n        vertical-align: top;\n    }\n\n    .dataframe thead th {\n        text-align: right;\n    }\n</style>\n<table border=\"1\" class=\"dataframe\">\n  <thead>\n    <tr style=\"text-align: right;\">\n      <th></th>\n      <th>Location</th>\n      <th>Borough</th>\n      <th>Post-town</th>\n      <th>Postcode</th>\n      <th>Dial-code</th>\n      <th>OSGridRef</th>\n    </tr>\n  </thead>\n  <tbody>\n    <tr>\n      <th>0</th>\n      <td>Abbey Wood</td>\n      <td>Bexley,  Greenwich</td>\n      <td>LONDON</td>\n      <td>SE2</td>\n      <td>020</td>\n      <td>TQ465785</td>\n    </tr>\n    <tr>\n      <th>1</th>\n      <td>Acton</td>\n      <td>Ealing, Hammersmith and Fulham</td>\n      <td>LONDON</td>\n      <td>W3, W4</td>\n      <td>020</td>\n      <td>TQ205805</td>\n    </tr>\n    <tr>\n      <th>2</th>\n      <td>Addington</td>\n      <td>Croydon</td>\n      <td>CROYDON</td>\n      <td>CR0</td>\n      <td>020</td>\n      <td>TQ375645</td>\n    </tr>\n    <tr>\n      <th>3</th>\n      <td>Addiscombe</td>\n      <td>Croydon</td>\n      <td>CROYDON</td>\n      <td>CR0</td>\n      <td>020</td>\n      <td>TQ345665</td>\n    </tr>\n    <tr>\n      <th>4</th>\n      <td>Albany Park</td>\n      <td>Bexley</td>\n      <td>BEXLEY, SIDCUP</td>\n      <td>DA5, DA14</td>\n      <td>020</td>\n      <td>TQ478728</td>\n    </tr>\n  </tbody>\n</table>\n</div>",
                        "text/plain": "      Location                         Borough       Post-town   Postcode  \\\n0   Abbey Wood             Bexley,  Greenwich           LONDON        SE2   \n1        Acton  Ealing, Hammersmith and Fulham          LONDON     W3, W4   \n2    Addington                         Croydon         CROYDON        CR0   \n3   Addiscombe                         Croydon         CROYDON        CR0   \n4  Albany Park                          Bexley  BEXLEY, SIDCUP  DA5, DA14   \n\n  Dial-code OSGridRef  \n0       020  TQ465785  \n1       020  TQ205805  \n2       020  TQ375645  \n3       020  TQ345665  \n4       020  TQ478728  "
                    },
                    "execution_count": 14,
                    "metadata": {},
                    "output_type": "execute_result"
                }
            ],
            "source": "df.head(5)"
        },
        {
            "cell_type": "markdown",
            "metadata": {},
            "source": "London is big and due to the limitations in the number of calls for the Foursquare API, the following assumptions are made to confine this project to only South East London.\n\nAssumption 1: Where the Postcode are more than one, (for example, in Acton, there are 2 postcodes - W3 and W4), the postcodes are spread to multi-rows and assigned the same values from the other columns."
        },
        {
            "cell_type": "code",
            "execution_count": 15,
            "metadata": {},
            "outputs": [],
            "source": "df0 = df.drop('Postcode', axis=1).join(df['Postcode'].str.split(',', expand=True).stack().reset_index(level=1, drop=True).rename('Postcode'))"
        },
        {
            "cell_type": "code",
            "execution_count": 16,
            "metadata": {},
            "outputs": [
                {
                    "data": {
                        "text/html": "<div>\n<style scoped>\n    .dataframe tbody tr th:only-of-type {\n        vertical-align: middle;\n    }\n\n    .dataframe tbody tr th {\n        vertical-align: top;\n    }\n\n    .dataframe thead th {\n        text-align: right;\n    }\n</style>\n<table border=\"1\" class=\"dataframe\">\n  <thead>\n    <tr style=\"text-align: right;\">\n      <th></th>\n      <th>Location</th>\n      <th>Borough</th>\n      <th>Post-town</th>\n      <th>Dial-code</th>\n      <th>OSGridRef</th>\n      <th>Postcode</th>\n    </tr>\n  </thead>\n  <tbody>\n    <tr>\n      <th>0</th>\n      <td>Abbey Wood</td>\n      <td>Bexley,  Greenwich</td>\n      <td>LONDON</td>\n      <td>020</td>\n      <td>TQ465785</td>\n      <td>SE2</td>\n    </tr>\n    <tr>\n      <th>1</th>\n      <td>Acton</td>\n      <td>Ealing, Hammersmith and Fulham</td>\n      <td>LONDON</td>\n      <td>020</td>\n      <td>TQ205805</td>\n      <td>W3</td>\n    </tr>\n    <tr>\n      <th>1</th>\n      <td>Acton</td>\n      <td>Ealing, Hammersmith and Fulham</td>\n      <td>LONDON</td>\n      <td>020</td>\n      <td>TQ205805</td>\n      <td>W4</td>\n    </tr>\n    <tr>\n      <th>10</th>\n      <td>Angel</td>\n      <td>Islington</td>\n      <td>LONDON</td>\n      <td>020</td>\n      <td>TQ345665</td>\n      <td>EC1</td>\n    </tr>\n    <tr>\n      <th>10</th>\n      <td>Angel</td>\n      <td>Islington</td>\n      <td>LONDON</td>\n      <td>020</td>\n      <td>TQ345665</td>\n      <td>N1</td>\n    </tr>\n  </tbody>\n</table>\n</div>",
                        "text/plain": "      Location                         Borough Post-town Dial-code OSGridRef  \\\n0   Abbey Wood             Bexley,  Greenwich     LONDON       020  TQ465785   \n1        Acton  Ealing, Hammersmith and Fulham    LONDON       020  TQ205805   \n1        Acton  Ealing, Hammersmith and Fulham    LONDON       020  TQ205805   \n10       Angel                       Islington    LONDON       020  TQ345665   \n10       Angel                       Islington    LONDON       020  TQ345665   \n\n   Postcode  \n0       SE2  \n1        W3  \n1        W4  \n10      EC1  \n10       N1  "
                    },
                    "execution_count": 16,
                    "metadata": {},
                    "output_type": "execute_result"
                }
            ],
            "source": "df0.head(5)"
        },
        {
            "cell_type": "code",
            "execution_count": 17,
            "metadata": {},
            "outputs": [
                {
                    "data": {
                        "text/plain": "(637, 6)"
                    },
                    "execution_count": 17,
                    "metadata": {},
                    "output_type": "execute_result"
                }
            ],
            "source": "df0.shape"
        },
        {
            "cell_type": "markdown",
            "metadata": {},
            "source": "As seen above, there are separate rows for Postcodes - W3and W4; same goes for the others too.\n\nAssumption 2: From the data, only the 'Location', 'Borough', 'Postcode', 'Post-town' will be used for this project. So they are extracted into a new data frame."
        },
        {
            "cell_type": "code",
            "execution_count": 18,
            "metadata": {},
            "outputs": [],
            "source": "df1 = df0[['Location', 'Borough', 'Postcode', 'Post-town']].reset_index(drop=True)"
        },
        {
            "cell_type": "code",
            "execution_count": 19,
            "metadata": {},
            "outputs": [
                {
                    "data": {
                        "text/html": "<div>\n<style scoped>\n    .dataframe tbody tr th:only-of-type {\n        vertical-align: middle;\n    }\n\n    .dataframe tbody tr th {\n        vertical-align: top;\n    }\n\n    .dataframe thead th {\n        text-align: right;\n    }\n</style>\n<table border=\"1\" class=\"dataframe\">\n  <thead>\n    <tr style=\"text-align: right;\">\n      <th></th>\n      <th>Location</th>\n      <th>Borough</th>\n      <th>Postcode</th>\n      <th>Post-town</th>\n    </tr>\n  </thead>\n  <tbody>\n    <tr>\n      <th>0</th>\n      <td>Abbey Wood</td>\n      <td>Bexley,  Greenwich</td>\n      <td>SE2</td>\n      <td>LONDON</td>\n    </tr>\n    <tr>\n      <th>1</th>\n      <td>Acton</td>\n      <td>Ealing, Hammersmith and Fulham</td>\n      <td>W3</td>\n      <td>LONDON</td>\n    </tr>\n    <tr>\n      <th>2</th>\n      <td>Acton</td>\n      <td>Ealing, Hammersmith and Fulham</td>\n      <td>W4</td>\n      <td>LONDON</td>\n    </tr>\n    <tr>\n      <th>3</th>\n      <td>Angel</td>\n      <td>Islington</td>\n      <td>EC1</td>\n      <td>LONDON</td>\n    </tr>\n    <tr>\n      <th>4</th>\n      <td>Angel</td>\n      <td>Islington</td>\n      <td>N1</td>\n      <td>LONDON</td>\n    </tr>\n  </tbody>\n</table>\n</div>",
                        "text/plain": "     Location                         Borough Postcode Post-town\n0  Abbey Wood             Bexley,  Greenwich       SE2    LONDON\n1       Acton  Ealing, Hammersmith and Fulham       W3    LONDON\n2       Acton  Ealing, Hammersmith and Fulham       W4    LONDON\n3       Angel                       Islington      EC1    LONDON\n4       Angel                       Islington       N1    LONDON"
                    },
                    "execution_count": 19,
                    "metadata": {},
                    "output_type": "execute_result"
                }
            ],
            "source": "df1.head(5)"
        },
        {
            "cell_type": "code",
            "execution_count": 20,
            "metadata": {},
            "outputs": [
                {
                    "data": {
                        "text/plain": "(637, 4)"
                    },
                    "execution_count": 20,
                    "metadata": {},
                    "output_type": "execute_result"
                }
            ],
            "source": "df1.shape"
        },
        {
            "cell_type": "markdown",
            "metadata": {},
            "source": "Assumption 3: Now, only the Boroughs with London Post-town will be used for our search of location. Therefore, all the non-post-town are dropped."
        },
        {
            "cell_type": "code",
            "execution_count": 21,
            "metadata": {},
            "outputs": [],
            "source": "df2 = df1\ndf21 = df2[df2['Post-town'].str.contains('LONDON')]"
        },
        {
            "cell_type": "code",
            "execution_count": 22,
            "metadata": {},
            "outputs": [
                {
                    "data": {
                        "text/html": "<div>\n<style scoped>\n    .dataframe tbody tr th:only-of-type {\n        vertical-align: middle;\n    }\n\n    .dataframe tbody tr th {\n        vertical-align: top;\n    }\n\n    .dataframe thead th {\n        text-align: right;\n    }\n</style>\n<table border=\"1\" class=\"dataframe\">\n  <thead>\n    <tr style=\"text-align: right;\">\n      <th></th>\n      <th>Location</th>\n      <th>Borough</th>\n      <th>Postcode</th>\n      <th>Post-town</th>\n    </tr>\n  </thead>\n  <tbody>\n    <tr>\n      <th>0</th>\n      <td>Abbey Wood</td>\n      <td>Bexley,  Greenwich</td>\n      <td>SE2</td>\n      <td>LONDON</td>\n    </tr>\n    <tr>\n      <th>1</th>\n      <td>Acton</td>\n      <td>Ealing, Hammersmith and Fulham</td>\n      <td>W3</td>\n      <td>LONDON</td>\n    </tr>\n    <tr>\n      <th>2</th>\n      <td>Acton</td>\n      <td>Ealing, Hammersmith and Fulham</td>\n      <td>W4</td>\n      <td>LONDON</td>\n    </tr>\n    <tr>\n      <th>3</th>\n      <td>Angel</td>\n      <td>Islington</td>\n      <td>EC1</td>\n      <td>LONDON</td>\n    </tr>\n    <tr>\n      <th>4</th>\n      <td>Angel</td>\n      <td>Islington</td>\n      <td>N1</td>\n      <td>LONDON</td>\n    </tr>\n  </tbody>\n</table>\n</div>",
                        "text/plain": "     Location                         Borough Postcode Post-town\n0  Abbey Wood             Bexley,  Greenwich       SE2    LONDON\n1       Acton  Ealing, Hammersmith and Fulham       W3    LONDON\n2       Acton  Ealing, Hammersmith and Fulham       W4    LONDON\n3       Angel                       Islington      EC1    LONDON\n4       Angel                       Islington       N1    LONDON"
                    },
                    "execution_count": 22,
                    "metadata": {},
                    "output_type": "execute_result"
                }
            ],
            "source": "df21.head(5)"
        },
        {
            "cell_type": "code",
            "execution_count": 23,
            "metadata": {},
            "outputs": [
                {
                    "data": {
                        "text/plain": "(381, 4)"
                    },
                    "execution_count": 23,
                    "metadata": {},
                    "output_type": "execute_result"
                }
            ],
            "source": "df21.shape"
        },
        {
            "cell_type": "markdown",
            "metadata": {},
            "source": "From assumption 3, there are now 380 instances, which is a drop from 638 because of the drop of non-London post-towns."
        },
        {
            "cell_type": "code",
            "execution_count": 24,
            "metadata": {},
            "outputs": [],
            "source": "# Re-assigns the df21 to new dataframe without the Post-town\ndf3 = df21[['Location', 'Borough', 'Postcode']].reset_index(drop=True)"
        },
        {
            "cell_type": "code",
            "execution_count": 25,
            "metadata": {},
            "outputs": [
                {
                    "data": {
                        "text/html": "<div>\n<style scoped>\n    .dataframe tbody tr th:only-of-type {\n        vertical-align: middle;\n    }\n\n    .dataframe tbody tr th {\n        vertical-align: top;\n    }\n\n    .dataframe thead th {\n        text-align: right;\n    }\n</style>\n<table border=\"1\" class=\"dataframe\">\n  <thead>\n    <tr style=\"text-align: right;\">\n      <th></th>\n      <th>Location</th>\n      <th>Borough</th>\n      <th>Postcode</th>\n    </tr>\n  </thead>\n  <tbody>\n    <tr>\n      <th>0</th>\n      <td>Abbey Wood</td>\n      <td>Bexley,  Greenwich</td>\n      <td>SE2</td>\n    </tr>\n    <tr>\n      <th>1</th>\n      <td>Acton</td>\n      <td>Ealing, Hammersmith and Fulham</td>\n      <td>W3</td>\n    </tr>\n    <tr>\n      <th>2</th>\n      <td>Acton</td>\n      <td>Ealing, Hammersmith and Fulham</td>\n      <td>W4</td>\n    </tr>\n    <tr>\n      <th>3</th>\n      <td>Angel</td>\n      <td>Islington</td>\n      <td>EC1</td>\n    </tr>\n    <tr>\n      <th>4</th>\n      <td>Angel</td>\n      <td>Islington</td>\n      <td>N1</td>\n    </tr>\n    <tr>\n      <th>5</th>\n      <td>Church End</td>\n      <td>Brent</td>\n      <td>NW10</td>\n    </tr>\n    <tr>\n      <th>6</th>\n      <td>Church End</td>\n      <td>Barnet</td>\n      <td>N3</td>\n    </tr>\n    <tr>\n      <th>7</th>\n      <td>Clapham</td>\n      <td>Lambeth, Wandsworth</td>\n      <td>SW4</td>\n    </tr>\n    <tr>\n      <th>8</th>\n      <td>Clerkenwell</td>\n      <td>Islington</td>\n      <td>EC1</td>\n    </tr>\n    <tr>\n      <th>9</th>\n      <td>Colindale</td>\n      <td>Barnet</td>\n      <td>NW9</td>\n    </tr>\n  </tbody>\n</table>\n</div>",
                        "text/plain": "      Location                         Borough Postcode\n0   Abbey Wood             Bexley,  Greenwich       SE2\n1        Acton  Ealing, Hammersmith and Fulham       W3\n2        Acton  Ealing, Hammersmith and Fulham       W4\n3        Angel                       Islington      EC1\n4        Angel                       Islington       N1\n5   Church End                           Brent     NW10\n6   Church End                          Barnet       N3\n7      Clapham             Lambeth, Wandsworth      SW4\n8  Clerkenwell                       Islington      EC1\n9    Colindale                          Barnet      NW9"
                    },
                    "execution_count": 25,
                    "metadata": {},
                    "output_type": "execute_result"
                }
            ],
            "source": "df3.head(10)"
        },
        {
            "cell_type": "code",
            "execution_count": 26,
            "metadata": {},
            "outputs": [],
            "source": "df_london = df3\ndf_london.to_csv('LondonLocations.csv', index = False)"
        },
        {
            "cell_type": "markdown",
            "metadata": {},
            "source": "Assumption 4: Due to its more diverse outlook, proximity to afro-caribbean markets and accessible facilities, only the South East areas of London will be considered for our analysis. The South East areas has postcodes starting with SE.\n\nSo, first, we remove the whitesapaces at the start of some of the postcodes and then drop the other non-SE postcodes."
        },
        {
            "cell_type": "code",
            "execution_count": 27,
            "metadata": {},
            "outputs": [
                {
                    "data": {
                        "text/html": "<div>\n<style scoped>\n    .dataframe tbody tr th:only-of-type {\n        vertical-align: middle;\n    }\n\n    .dataframe tbody tr th {\n        vertical-align: top;\n    }\n\n    .dataframe thead th {\n        text-align: right;\n    }\n</style>\n<table border=\"1\" class=\"dataframe\">\n  <thead>\n    <tr style=\"text-align: right;\">\n      <th></th>\n      <th>Location</th>\n      <th>Borough</th>\n      <th>Postcode</th>\n    </tr>\n  </thead>\n  <tbody>\n    <tr>\n      <th>0</th>\n      <td>Abbey Wood</td>\n      <td>Bexley,  Greenwich</td>\n      <td>SE2</td>\n    </tr>\n    <tr>\n      <th>1</th>\n      <td>Acton</td>\n      <td>Ealing, Hammersmith and Fulham</td>\n      <td>W3</td>\n    </tr>\n    <tr>\n      <th>2</th>\n      <td>Acton</td>\n      <td>Ealing, Hammersmith and Fulham</td>\n      <td>W4</td>\n    </tr>\n    <tr>\n      <th>3</th>\n      <td>Angel</td>\n      <td>Islington</td>\n      <td>EC1</td>\n    </tr>\n    <tr>\n      <th>4</th>\n      <td>Angel</td>\n      <td>Islington</td>\n      <td>N1</td>\n    </tr>\n  </tbody>\n</table>\n</div>",
                        "text/plain": "     Location                         Borough Postcode\n0  Abbey Wood             Bexley,  Greenwich       SE2\n1       Acton  Ealing, Hammersmith and Fulham       W3\n2       Acton  Ealing, Hammersmith and Fulham       W4\n3       Angel                       Islington      EC1\n4       Angel                       Islington       N1"
                    },
                    "execution_count": 27,
                    "metadata": {},
                    "output_type": "execute_result"
                }
            ],
            "source": "df_london.head(5)"
        },
        {
            "cell_type": "code",
            "execution_count": 28,
            "metadata": {},
            "outputs": [],
            "source": "df_london.Postcode = df_london.Postcode.str.strip()"
        },
        {
            "cell_type": "code",
            "execution_count": 29,
            "metadata": {},
            "outputs": [
                {
                    "data": {
                        "text/html": "<div>\n<style scoped>\n    .dataframe tbody tr th:only-of-type {\n        vertical-align: middle;\n    }\n\n    .dataframe tbody tr th {\n        vertical-align: top;\n    }\n\n    .dataframe thead th {\n        text-align: right;\n    }\n</style>\n<table border=\"1\" class=\"dataframe\">\n  <thead>\n    <tr style=\"text-align: right;\">\n      <th></th>\n      <th>Location</th>\n      <th>Borough</th>\n      <th>Postcode</th>\n    </tr>\n  </thead>\n  <tbody>\n    <tr>\n      <th>0</th>\n      <td>Abbey Wood</td>\n      <td>Bexley,  Greenwich</td>\n      <td>SE2</td>\n    </tr>\n    <tr>\n      <th>1</th>\n      <td>Acton</td>\n      <td>Ealing, Hammersmith and Fulham</td>\n      <td>W3</td>\n    </tr>\n    <tr>\n      <th>2</th>\n      <td>Acton</td>\n      <td>Ealing, Hammersmith and Fulham</td>\n      <td>W4</td>\n    </tr>\n    <tr>\n      <th>3</th>\n      <td>Angel</td>\n      <td>Islington</td>\n      <td>EC1</td>\n    </tr>\n    <tr>\n      <th>4</th>\n      <td>Angel</td>\n      <td>Islington</td>\n      <td>N1</td>\n    </tr>\n  </tbody>\n</table>\n</div>",
                        "text/plain": "     Location                         Borough Postcode\n0  Abbey Wood             Bexley,  Greenwich       SE2\n1       Acton  Ealing, Hammersmith and Fulham       W3\n2       Acton  Ealing, Hammersmith and Fulham       W4\n3       Angel                       Islington      EC1\n4       Angel                       Islington       N1"
                    },
                    "execution_count": 29,
                    "metadata": {},
                    "output_type": "execute_result"
                }
            ],
            "source": "df_london.head(5)"
        },
        {
            "cell_type": "code",
            "execution_count": 30,
            "metadata": {},
            "outputs": [],
            "source": "# New dataframe for South East London postcodes - df_se\ndf_se = df_london[df_london['Postcode'].str.startswith(('SE'))].reset_index(drop=True)"
        },
        {
            "cell_type": "code",
            "execution_count": 31,
            "metadata": {},
            "outputs": [
                {
                    "data": {
                        "text/html": "<div>\n<style scoped>\n    .dataframe tbody tr th:only-of-type {\n        vertical-align: middle;\n    }\n\n    .dataframe tbody tr th {\n        vertical-align: top;\n    }\n\n    .dataframe thead th {\n        text-align: right;\n    }\n</style>\n<table border=\"1\" class=\"dataframe\">\n  <thead>\n    <tr style=\"text-align: right;\">\n      <th></th>\n      <th>Location</th>\n      <th>Borough</th>\n      <th>Postcode</th>\n    </tr>\n  </thead>\n  <tbody>\n    <tr>\n      <th>0</th>\n      <td>Abbey Wood</td>\n      <td>Bexley,  Greenwich</td>\n      <td>SE2</td>\n    </tr>\n    <tr>\n      <th>1</th>\n      <td>Crofton Park</td>\n      <td>Lewisham</td>\n      <td>SE4</td>\n    </tr>\n    <tr>\n      <th>2</th>\n      <td>Crossness</td>\n      <td>Bexley</td>\n      <td>SE2</td>\n    </tr>\n    <tr>\n      <th>3</th>\n      <td>Crystal Palace</td>\n      <td>Bromley</td>\n      <td>SE19</td>\n    </tr>\n    <tr>\n      <th>4</th>\n      <td>Crystal Palace</td>\n      <td>Bromley</td>\n      <td>SE20</td>\n    </tr>\n    <tr>\n      <th>5</th>\n      <td>Crystal Palace</td>\n      <td>Bromley</td>\n      <td>SE26</td>\n    </tr>\n    <tr>\n      <th>6</th>\n      <td>Denmark Hill</td>\n      <td>Southwark</td>\n      <td>SE5</td>\n    </tr>\n    <tr>\n      <th>7</th>\n      <td>Deptford</td>\n      <td>Lewisham</td>\n      <td>SE8</td>\n    </tr>\n    <tr>\n      <th>8</th>\n      <td>Dulwich</td>\n      <td>Southwark</td>\n      <td>SE21</td>\n    </tr>\n    <tr>\n      <th>9</th>\n      <td>East Dulwich</td>\n      <td>Southwark</td>\n      <td>SE22</td>\n    </tr>\n  </tbody>\n</table>\n</div>",
                        "text/plain": "         Location              Borough Postcode\n0      Abbey Wood  Bexley,  Greenwich       SE2\n1    Crofton Park             Lewisham      SE4\n2       Crossness               Bexley      SE2\n3  Crystal Palace              Bromley     SE19\n4  Crystal Palace              Bromley     SE20\n5  Crystal Palace              Bromley     SE26\n6    Denmark Hill            Southwark      SE5\n7        Deptford             Lewisham      SE8\n8         Dulwich            Southwark     SE21\n9    East Dulwich            Southwark     SE22"
                    },
                    "execution_count": 31,
                    "metadata": {},
                    "output_type": "execute_result"
                }
            ],
            "source": "df_se.head(10)"
        },
        {
            "cell_type": "markdown",
            "metadata": {},
            "source": "Now, our data is ready. df_se is the data we will focus on.\n\nAssumption 5: This assumption will focus on the demography of London where there are predominantly more multicultural groups. According to the proportion of races by London borough as seen in Demography of London, the top 5 Black Africans or Caribbeans are shown below:"
        },
        {
            "cell_type": "code",
            "execution_count": 32,
            "metadata": {},
            "outputs": [],
            "source": "demograph_link = 'https://en.wikipedia.org/wiki/Demography_of_London'\nheaders = {'User-Agent': 'Mozilla/5.0 (Windows NT 10.0; Win64; x64; rv:64.0) Gecko/20100101 Firefox/64.0'}\ndemograph_page = requests.get(demograph_link, headers = headers)\nsoup1 = BeautifulSoup(demograph_page.content, 'html.parser')\ntable1 = soup1.find('table', {'class':'wikitable sortable'}).tbody\nrows1 = table1.find_all('tr')\ncolumns1 = [i.text.replace('\\n', '')\n           for i in rows1[0].find_all('th')]"
        },
        {
            "cell_type": "code",
            "execution_count": 33,
            "metadata": {},
            "outputs": [
                {
                    "data": {
                        "text/plain": "['Local authority', 'White', 'Mixed', 'Asian', 'Black', 'Other']"
                    },
                    "execution_count": 33,
                    "metadata": {},
                    "output_type": "execute_result"
                }
            ],
            "source": "columns1"
        },
        {
            "cell_type": "code",
            "execution_count": 34,
            "metadata": {},
            "outputs": [],
            "source": "demo_london = pd.DataFrame(columns = columns1)"
        },
        {
            "cell_type": "code",
            "execution_count": 35,
            "metadata": {},
            "outputs": [
                {
                    "data": {
                        "text/html": "<div>\n<style scoped>\n    .dataframe tbody tr th:only-of-type {\n        vertical-align: middle;\n    }\n\n    .dataframe tbody tr th {\n        vertical-align: top;\n    }\n\n    .dataframe thead th {\n        text-align: right;\n    }\n</style>\n<table border=\"1\" class=\"dataframe\">\n  <thead>\n    <tr style=\"text-align: right;\">\n      <th></th>\n      <th>Local authority</th>\n      <th>White</th>\n      <th>Mixed</th>\n      <th>Asian</th>\n      <th>Black</th>\n      <th>Other</th>\n    </tr>\n  </thead>\n  <tbody>\n  </tbody>\n</table>\n</div>",
                        "text/plain": "Empty DataFrame\nColumns: [Local authority, White, Mixed, Asian, Black, Other]\nIndex: []"
                    },
                    "execution_count": 35,
                    "metadata": {},
                    "output_type": "execute_result"
                }
            ],
            "source": "demo_london.head(5)"
        },
        {
            "cell_type": "code",
            "execution_count": 36,
            "metadata": {},
            "outputs": [],
            "source": "for j in range(1, len(rows1)):\n    tds1 = rows1[j].find_all('td')\n    if len(tds1) == 7:\n        values1 = [tds1[0].text, tds1[1].text, tds1[2].text.replace('\\n', ''.replace('\\xa0','')), tds1[3].text, tds1[4].text.replace('\\n', ''.replace('\\xa0','')), tds1[5].text.replace('\\n', ''.replace('\\xa0',''))]\n    else:\n        values1 = [td1.text.replace('\\n', '').replace('\\xa0','') for td1 in tds1]\n        \n        demo_london = demo_london.append(pd.Series(values1, index = columns1), ignore_index = True)\n\n        demo_london"
        },
        {
            "cell_type": "code",
            "execution_count": 37,
            "metadata": {},
            "outputs": [],
            "source": "demo_london['Black'] = demo_london['Black'].astype('float')"
        },
        {
            "cell_type": "code",
            "execution_count": 38,
            "metadata": {},
            "outputs": [],
            "source": "demo_london_sorted = demo_london.sort_values(by='Black', ascending = False)"
        },
        {
            "cell_type": "code",
            "execution_count": 39,
            "metadata": {},
            "outputs": [
                {
                    "data": {
                        "text/html": "<div>\n<style scoped>\n    .dataframe tbody tr th:only-of-type {\n        vertical-align: middle;\n    }\n\n    .dataframe tbody tr th {\n        vertical-align: top;\n    }\n\n    .dataframe thead th {\n        text-align: right;\n    }\n</style>\n<table border=\"1\" class=\"dataframe\">\n  <thead>\n    <tr style=\"text-align: right;\">\n      <th></th>\n      <th>Local authority</th>\n      <th>White</th>\n      <th>Mixed</th>\n      <th>Asian</th>\n      <th>Black</th>\n      <th>Other</th>\n    </tr>\n  </thead>\n  <tbody>\n    <tr>\n      <th>22</th>\n      <td>Lewisham</td>\n      <td>53.5</td>\n      <td>7.4</td>\n      <td>9.3</td>\n      <td>27.2</td>\n      <td>2.6</td>\n    </tr>\n    <tr>\n      <th>27</th>\n      <td>Southwark</td>\n      <td>54.3</td>\n      <td>6.2</td>\n      <td>9.4</td>\n      <td>26.9</td>\n      <td>3.3</td>\n    </tr>\n    <tr>\n      <th>21</th>\n      <td>Lambeth</td>\n      <td>57.1</td>\n      <td>7.6</td>\n      <td>6.9</td>\n      <td>25.9</td>\n      <td>2.4</td>\n    </tr>\n    <tr>\n      <th>11</th>\n      <td>Hackney</td>\n      <td>54.7</td>\n      <td>6.4</td>\n      <td>10.5</td>\n      <td>23.1</td>\n      <td>5.3</td>\n    </tr>\n    <tr>\n      <th>7</th>\n      <td>Croydon</td>\n      <td>55.1</td>\n      <td>6.6</td>\n      <td>16.4</td>\n      <td>20.2</td>\n      <td>1.8</td>\n    </tr>\n  </tbody>\n</table>\n</div>",
                        "text/plain": "   Local authority White Mixed Asian  Black Other\n22        Lewisham  53.5   7.4   9.3   27.2   2.6\n27       Southwark  54.3   6.2   9.4   26.9   3.3\n21         Lambeth  57.1   7.6   6.9   25.9   2.4\n11         Hackney  54.7   6.4  10.5   23.1   5.3\n7          Croydon  55.1   6.6  16.4   20.2   1.8"
                    },
                    "execution_count": 39,
                    "metadata": {},
                    "output_type": "execute_result"
                }
            ],
            "source": "demo_london_sorted.head(5)"
        },
        {
            "cell_type": "markdown",
            "metadata": {},
            "source": "Assumption 6: Our next assumption will be based on the top 5 areas will significantly high \"Black\", \"Mixed\" and other races. These leaves us with Lewisham, Southwark, Lambeth, Hackney and Croydon."
        },
        {
            "cell_type": "code",
            "execution_count": 40,
            "metadata": {},
            "outputs": [
                {
                    "data": {
                        "text/html": "<div>\n<style scoped>\n    .dataframe tbody tr th:only-of-type {\n        vertical-align: middle;\n    }\n\n    .dataframe tbody tr th {\n        vertical-align: top;\n    }\n\n    .dataframe thead th {\n        text-align: right;\n    }\n</style>\n<table border=\"1\" class=\"dataframe\">\n  <thead>\n    <tr style=\"text-align: right;\">\n      <th></th>\n      <th>Location</th>\n      <th>Borough</th>\n      <th>Postcode</th>\n    </tr>\n  </thead>\n  <tbody>\n    <tr>\n      <th>0</th>\n      <td>Abbey Wood</td>\n      <td>Bexley,  Greenwich</td>\n      <td>SE2</td>\n    </tr>\n    <tr>\n      <th>1</th>\n      <td>Crofton Park</td>\n      <td>Lewisham</td>\n      <td>SE4</td>\n    </tr>\n    <tr>\n      <th>2</th>\n      <td>Crossness</td>\n      <td>Bexley</td>\n      <td>SE2</td>\n    </tr>\n    <tr>\n      <th>3</th>\n      <td>Crystal Palace</td>\n      <td>Bromley</td>\n      <td>SE19</td>\n    </tr>\n    <tr>\n      <th>4</th>\n      <td>Crystal Palace</td>\n      <td>Bromley</td>\n      <td>SE20</td>\n    </tr>\n    <tr>\n      <th>5</th>\n      <td>Crystal Palace</td>\n      <td>Bromley</td>\n      <td>SE26</td>\n    </tr>\n    <tr>\n      <th>6</th>\n      <td>Denmark Hill</td>\n      <td>Southwark</td>\n      <td>SE5</td>\n    </tr>\n    <tr>\n      <th>7</th>\n      <td>Deptford</td>\n      <td>Lewisham</td>\n      <td>SE8</td>\n    </tr>\n    <tr>\n      <th>8</th>\n      <td>Dulwich</td>\n      <td>Southwark</td>\n      <td>SE21</td>\n    </tr>\n    <tr>\n      <th>9</th>\n      <td>East Dulwich</td>\n      <td>Southwark</td>\n      <td>SE22</td>\n    </tr>\n    <tr>\n      <th>10</th>\n      <td>Elephant and Castle</td>\n      <td>Southwark</td>\n      <td>SE1</td>\n    </tr>\n    <tr>\n      <th>11</th>\n      <td>Elephant and Castle</td>\n      <td>Southwark</td>\n      <td>SE11</td>\n    </tr>\n    <tr>\n      <th>12</th>\n      <td>Elephant and Castle</td>\n      <td>Southwark</td>\n      <td>SE17</td>\n    </tr>\n    <tr>\n      <th>13</th>\n      <td>Eltham</td>\n      <td>Greenwich</td>\n      <td>SE9</td>\n    </tr>\n    <tr>\n      <th>14</th>\n      <td>Falconwood</td>\n      <td>Bexley, Greenwich</td>\n      <td>SE9</td>\n    </tr>\n    <tr>\n      <th>15</th>\n      <td>Bankside</td>\n      <td>Southwark</td>\n      <td>SE1</td>\n    </tr>\n    <tr>\n      <th>16</th>\n      <td>Forest Hill</td>\n      <td>Lewisham</td>\n      <td>SE23</td>\n    </tr>\n    <tr>\n      <th>17</th>\n      <td>Gipsy Hill</td>\n      <td>Lambeth</td>\n      <td>SE19</td>\n    </tr>\n    <tr>\n      <th>18</th>\n      <td>Gipsy Hill</td>\n      <td>Lambeth</td>\n      <td>SE27</td>\n    </tr>\n    <tr>\n      <th>19</th>\n      <td>Greenwich</td>\n      <td>Greenwich</td>\n      <td>SE10</td>\n    </tr>\n    <tr>\n      <th>20</th>\n      <td>Grove Park</td>\n      <td>Lewisham</td>\n      <td>SE12</td>\n    </tr>\n    <tr>\n      <th>21</th>\n      <td>Herne Hill</td>\n      <td>Lambeth</td>\n      <td>SE24</td>\n    </tr>\n    <tr>\n      <th>22</th>\n      <td>Hither Green</td>\n      <td>Lewisham</td>\n      <td>SE13</td>\n    </tr>\n    <tr>\n      <th>23</th>\n      <td>Honor Oak</td>\n      <td>Lewisham</td>\n      <td>SE23</td>\n    </tr>\n    <tr>\n      <th>24</th>\n      <td>Horn Park</td>\n      <td>Greenwich, Lewisham</td>\n      <td>SE12</td>\n    </tr>\n    <tr>\n      <th>25</th>\n      <td>Kennington</td>\n      <td>Lambeth, Southwark</td>\n      <td>SE11</td>\n    </tr>\n    <tr>\n      <th>26</th>\n      <td>Kidbrooke</td>\n      <td>Greenwich</td>\n      <td>SE3</td>\n    </tr>\n    <tr>\n      <th>27</th>\n      <td>Ladywell</td>\n      <td>Lewisham</td>\n      <td>SE4</td>\n    </tr>\n    <tr>\n      <th>28</th>\n      <td>Ladywell</td>\n      <td>Lewisham</td>\n      <td>SE13</td>\n    </tr>\n    <tr>\n      <th>29</th>\n      <td>Lambeth</td>\n      <td>Lambeth</td>\n      <td>SE1</td>\n    </tr>\n    <tr>\n      <th>30</th>\n      <td>Lee</td>\n      <td>Lewisham</td>\n      <td>SE12</td>\n    </tr>\n    <tr>\n      <th>31</th>\n      <td>Lewisham</td>\n      <td>Lewisham</td>\n      <td>SE13</td>\n    </tr>\n    <tr>\n      <th>32</th>\n      <td>Beckenham</td>\n      <td>Bromley</td>\n      <td>SE20</td>\n    </tr>\n    <tr>\n      <th>33</th>\n      <td>Longlands</td>\n      <td>Bexley</td>\n      <td>SE9</td>\n    </tr>\n    <tr>\n      <th>34</th>\n      <td>Maze Hill</td>\n      <td>Greenwich</td>\n      <td>SE10</td>\n    </tr>\n    <tr>\n      <th>35</th>\n      <td>Middle Park</td>\n      <td>Greenwich</td>\n      <td>SE9</td>\n    </tr>\n    <tr>\n      <th>36</th>\n      <td>Mottingham</td>\n      <td>Bromley</td>\n      <td>SE9</td>\n    </tr>\n    <tr>\n      <th>37</th>\n      <td>New Cross</td>\n      <td>Lewisham</td>\n      <td>SE14</td>\n    </tr>\n    <tr>\n      <th>38</th>\n      <td>New Eltham</td>\n      <td>Greenwich</td>\n      <td>SE9</td>\n    </tr>\n    <tr>\n      <th>39</th>\n      <td>Newington</td>\n      <td>Southwark</td>\n      <td>SE1</td>\n    </tr>\n    <tr>\n      <th>40</th>\n      <td>Newington</td>\n      <td>Southwark</td>\n      <td>SE17</td>\n    </tr>\n    <tr>\n      <th>41</th>\n      <td>Nunhead</td>\n      <td>Southwark</td>\n      <td>SE15</td>\n    </tr>\n    <tr>\n      <th>42</th>\n      <td>Oval</td>\n      <td>Lambeth</td>\n      <td>SE11</td>\n    </tr>\n    <tr>\n      <th>43</th>\n      <td>Bellingham</td>\n      <td>Lewisham</td>\n      <td>SE6</td>\n    </tr>\n    <tr>\n      <th>44</th>\n      <td>Peckham</td>\n      <td>Southwark</td>\n      <td>SE15</td>\n    </tr>\n    <tr>\n      <th>45</th>\n      <td>Penge</td>\n      <td>Bromley</td>\n      <td>SE20</td>\n    </tr>\n    <tr>\n      <th>46</th>\n      <td>Plumstead</td>\n      <td>Greenwich</td>\n      <td>SE18</td>\n    </tr>\n    <tr>\n      <th>47</th>\n      <td>Rotherhithe</td>\n      <td>Southwark</td>\n      <td>SE16</td>\n    </tr>\n    <tr>\n      <th>48</th>\n      <td>Selhurst</td>\n      <td>Croydon</td>\n      <td>SE25</td>\n    </tr>\n    <tr>\n      <th>49</th>\n      <td>Shooter's Hill</td>\n      <td>Greenwich</td>\n      <td>SE18</td>\n    </tr>\n    <tr>\n      <th>50</th>\n      <td>Bermondsey</td>\n      <td>Southwark</td>\n      <td>SE1</td>\n    </tr>\n    <tr>\n      <th>51</th>\n      <td>South Norwood</td>\n      <td>Croydon</td>\n      <td>SE25</td>\n    </tr>\n    <tr>\n      <th>52</th>\n      <td>Southend</td>\n      <td>Lewisham</td>\n      <td>SE6</td>\n    </tr>\n    <tr>\n      <th>53</th>\n      <td>St Johns</td>\n      <td>Lewisham</td>\n      <td>SE4</td>\n    </tr>\n    <tr>\n      <th>54</th>\n      <td>Bexleyheath (also Bexley New Town)</td>\n      <td>Bexley</td>\n      <td>SE2</td>\n    </tr>\n    <tr>\n      <th>55</th>\n      <td>Surrey Quays</td>\n      <td>Southwark</td>\n      <td>SE16</td>\n    </tr>\n    <tr>\n      <th>56</th>\n      <td>Sydenham (also Lower Sydenham, Upper Sydenham)</td>\n      <td>Lewisham, Bromley</td>\n      <td>SE26</td>\n    </tr>\n    <tr>\n      <th>57</th>\n      <td>Sydenham Hill</td>\n      <td>Lewisham, Southwark</td>\n      <td>SE21</td>\n    </tr>\n    <tr>\n      <th>58</th>\n      <td>Sydenham Hill</td>\n      <td>Lewisham, Southwark</td>\n      <td>SE26</td>\n    </tr>\n    <tr>\n      <th>59</th>\n      <td>Thamesmead</td>\n      <td>Bexley, Greenwich</td>\n      <td>SE28</td>\n    </tr>\n    <tr>\n      <th>60</th>\n      <td>Thamesmead</td>\n      <td>Bexley, Greenwich</td>\n      <td>SE2</td>\n    </tr>\n    <tr>\n      <th>61</th>\n      <td>Tulse Hill</td>\n      <td>Lambeth</td>\n      <td>SE24</td>\n    </tr>\n    <tr>\n      <th>62</th>\n      <td>Tulse Hill</td>\n      <td>Lambeth</td>\n      <td>SE27</td>\n    </tr>\n    <tr>\n      <th>63</th>\n      <td>Upper Norwood</td>\n      <td>Croydon</td>\n      <td>SE19</td>\n    </tr>\n    <tr>\n      <th>64</th>\n      <td>Walworth</td>\n      <td>Southwark</td>\n      <td>SE17</td>\n    </tr>\n    <tr>\n      <th>65</th>\n      <td>Well Hall</td>\n      <td>Greenwich</td>\n      <td>SE9</td>\n    </tr>\n    <tr>\n      <th>66</th>\n      <td>Blackheath</td>\n      <td>Lewisham</td>\n      <td>SE3</td>\n    </tr>\n    <tr>\n      <th>67</th>\n      <td>West Heath</td>\n      <td>Bexley</td>\n      <td>SE2</td>\n    </tr>\n    <tr>\n      <th>68</th>\n      <td>Blackheath Royal Standard</td>\n      <td>Greenwich</td>\n      <td>SE3</td>\n    </tr>\n    <tr>\n      <th>69</th>\n      <td>Blackheath Royal Standard</td>\n      <td>Greenwich</td>\n      <td>SE12</td>\n    </tr>\n    <tr>\n      <th>70</th>\n      <td>West Norwood</td>\n      <td>Lambeth</td>\n      <td>SE27</td>\n    </tr>\n    <tr>\n      <th>71</th>\n      <td>Westcombe Park</td>\n      <td>Greenwich</td>\n      <td>SE3</td>\n    </tr>\n    <tr>\n      <th>72</th>\n      <td>Woolwich</td>\n      <td>Greenwich</td>\n      <td>SE18</td>\n    </tr>\n    <tr>\n      <th>73</th>\n      <td>Brixton</td>\n      <td>Lambeth</td>\n      <td>SE5</td>\n    </tr>\n    <tr>\n      <th>74</th>\n      <td>Brockley</td>\n      <td>Lewisham</td>\n      <td>SE4</td>\n    </tr>\n    <tr>\n      <th>75</th>\n      <td>Camberwell</td>\n      <td>Southwark</td>\n      <td>SE5</td>\n    </tr>\n    <tr>\n      <th>76</th>\n      <td>Catford</td>\n      <td>Lewisham</td>\n      <td>SE6</td>\n    </tr>\n    <tr>\n      <th>77</th>\n      <td>Charlton</td>\n      <td>Greenwich</td>\n      <td>SE7</td>\n    </tr>\n    <tr>\n      <th>78</th>\n      <td>Anerley</td>\n      <td>Bromley</td>\n      <td>SE20</td>\n    </tr>\n    <tr>\n      <th>79</th>\n      <td>Chinbrook</td>\n      <td>Lewisham</td>\n      <td>SE12</td>\n    </tr>\n  </tbody>\n</table>\n</div>",
                        "text/plain": "                                          Location              Borough  \\\n0                                       Abbey Wood  Bexley,  Greenwich    \n1                                     Crofton Park             Lewisham   \n2                                        Crossness               Bexley   \n3                                   Crystal Palace              Bromley   \n4                                   Crystal Palace              Bromley   \n5                                   Crystal Palace              Bromley   \n6                                     Denmark Hill            Southwark   \n7                                         Deptford             Lewisham   \n8                                          Dulwich            Southwark   \n9                                     East Dulwich            Southwark   \n10                             Elephant and Castle            Southwark   \n11                             Elephant and Castle            Southwark   \n12                             Elephant and Castle            Southwark   \n13                                          Eltham            Greenwich   \n14                                      Falconwood    Bexley, Greenwich   \n15                                        Bankside            Southwark   \n16                                     Forest Hill             Lewisham   \n17                                      Gipsy Hill              Lambeth   \n18                                      Gipsy Hill              Lambeth   \n19                                       Greenwich            Greenwich   \n20                                      Grove Park             Lewisham   \n21                                      Herne Hill              Lambeth   \n22                                    Hither Green             Lewisham   \n23                                       Honor Oak             Lewisham   \n24                                       Horn Park  Greenwich, Lewisham   \n25                                      Kennington   Lambeth, Southwark   \n26                                       Kidbrooke            Greenwich   \n27                                        Ladywell             Lewisham   \n28                                        Ladywell             Lewisham   \n29                                         Lambeth              Lambeth   \n30                                             Lee             Lewisham   \n31                                        Lewisham             Lewisham   \n32                                       Beckenham              Bromley   \n33                                       Longlands               Bexley   \n34                                       Maze Hill            Greenwich   \n35                                     Middle Park            Greenwich   \n36                                      Mottingham              Bromley   \n37                                       New Cross             Lewisham   \n38                                      New Eltham            Greenwich   \n39                                       Newington            Southwark   \n40                                       Newington            Southwark   \n41                                         Nunhead            Southwark   \n42                                            Oval              Lambeth   \n43                                      Bellingham             Lewisham   \n44                                         Peckham            Southwark   \n45                                           Penge              Bromley   \n46                                       Plumstead            Greenwich   \n47                                     Rotherhithe            Southwark   \n48                                        Selhurst              Croydon   \n49                                  Shooter's Hill            Greenwich   \n50                                      Bermondsey            Southwark   \n51                                   South Norwood              Croydon   \n52                                        Southend             Lewisham   \n53                                        St Johns             Lewisham   \n54              Bexleyheath (also Bexley New Town)               Bexley   \n55                                    Surrey Quays            Southwark   \n56  Sydenham (also Lower Sydenham, Upper Sydenham)    Lewisham, Bromley   \n57                                   Sydenham Hill  Lewisham, Southwark   \n58                                   Sydenham Hill  Lewisham, Southwark   \n59                                      Thamesmead    Bexley, Greenwich   \n60                                      Thamesmead    Bexley, Greenwich   \n61                                      Tulse Hill              Lambeth   \n62                                      Tulse Hill              Lambeth   \n63                                   Upper Norwood              Croydon   \n64                                        Walworth            Southwark   \n65                                       Well Hall            Greenwich   \n66                                      Blackheath             Lewisham   \n67                                      West Heath               Bexley   \n68                       Blackheath Royal Standard            Greenwich   \n69                       Blackheath Royal Standard            Greenwich   \n70                                    West Norwood              Lambeth   \n71                                  Westcombe Park            Greenwich   \n72                                        Woolwich            Greenwich   \n73                                         Brixton              Lambeth   \n74                                        Brockley             Lewisham   \n75                                      Camberwell            Southwark   \n76                                         Catford             Lewisham   \n77                                        Charlton            Greenwich   \n78                                         Anerley              Bromley   \n79                                       Chinbrook             Lewisham   \n\n   Postcode  \n0       SE2  \n1       SE4  \n2       SE2  \n3      SE19  \n4      SE20  \n5      SE26  \n6       SE5  \n7       SE8  \n8      SE21  \n9      SE22  \n10      SE1  \n11     SE11  \n12     SE17  \n13      SE9  \n14      SE9  \n15      SE1  \n16     SE23  \n17     SE19  \n18     SE27  \n19     SE10  \n20     SE12  \n21     SE24  \n22     SE13  \n23     SE23  \n24     SE12  \n25     SE11  \n26      SE3  \n27      SE4  \n28     SE13  \n29      SE1  \n30     SE12  \n31     SE13  \n32     SE20  \n33      SE9  \n34     SE10  \n35      SE9  \n36      SE9  \n37     SE14  \n38      SE9  \n39      SE1  \n40     SE17  \n41     SE15  \n42     SE11  \n43      SE6  \n44     SE15  \n45     SE20  \n46     SE18  \n47     SE16  \n48     SE25  \n49     SE18  \n50      SE1  \n51     SE25  \n52      SE6  \n53      SE4  \n54      SE2  \n55     SE16  \n56     SE26  \n57     SE21  \n58     SE26  \n59     SE28  \n60      SE2  \n61     SE24  \n62     SE27  \n63     SE19  \n64     SE17  \n65      SE9  \n66      SE3  \n67      SE2  \n68      SE3  \n69     SE12  \n70     SE27  \n71      SE3  \n72     SE18  \n73      SE5  \n74      SE4  \n75      SE5  \n76      SE6  \n77      SE7  \n78     SE20  \n79     SE12  "
                    },
                    "execution_count": 40,
                    "metadata": {},
                    "output_type": "execute_result"
                }
            ],
            "source": "df_se"
        },
        {
            "cell_type": "code",
            "execution_count": 41,
            "metadata": {},
            "outputs": [],
            "source": "df_se_top = df_se[df_se['Borough'].isin(['Lewisham', 'Southwark', 'Lambeth', 'Hackney', 'Croydon'])].reset_index(drop=True)"
        },
        {
            "cell_type": "markdown",
            "metadata": {},
            "source": "Just to be sure with syntax, Hackney is in North London, so it will not be returned. The resulting dataframe is df_se_top."
        },
        {
            "cell_type": "code",
            "execution_count": 42,
            "metadata": {},
            "outputs": [
                {
                    "data": {
                        "text/html": "<div>\n<style scoped>\n    .dataframe tbody tr th:only-of-type {\n        vertical-align: middle;\n    }\n\n    .dataframe tbody tr th {\n        vertical-align: top;\n    }\n\n    .dataframe thead th {\n        text-align: right;\n    }\n</style>\n<table border=\"1\" class=\"dataframe\">\n  <thead>\n    <tr style=\"text-align: right;\">\n      <th></th>\n      <th>Location</th>\n      <th>Borough</th>\n      <th>Postcode</th>\n    </tr>\n  </thead>\n  <tbody>\n    <tr>\n      <th>0</th>\n      <td>Crofton Park</td>\n      <td>Lewisham</td>\n      <td>SE4</td>\n    </tr>\n    <tr>\n      <th>1</th>\n      <td>Denmark Hill</td>\n      <td>Southwark</td>\n      <td>SE5</td>\n    </tr>\n    <tr>\n      <th>2</th>\n      <td>Deptford</td>\n      <td>Lewisham</td>\n      <td>SE8</td>\n    </tr>\n    <tr>\n      <th>3</th>\n      <td>Dulwich</td>\n      <td>Southwark</td>\n      <td>SE21</td>\n    </tr>\n    <tr>\n      <th>4</th>\n      <td>East Dulwich</td>\n      <td>Southwark</td>\n      <td>SE22</td>\n    </tr>\n  </tbody>\n</table>\n</div>",
                        "text/plain": "       Location    Borough Postcode\n0  Crofton Park   Lewisham      SE4\n1  Denmark Hill  Southwark      SE5\n2      Deptford   Lewisham      SE8\n3       Dulwich  Southwark     SE21\n4  East Dulwich  Southwark     SE22"
                    },
                    "execution_count": 42,
                    "metadata": {},
                    "output_type": "execute_result"
                }
            ],
            "source": "df_se_top.head(5)"
        },
        {
            "cell_type": "code",
            "execution_count": 43,
            "metadata": {},
            "outputs": [
                {
                    "data": {
                        "text/plain": "(46, 3)"
                    },
                    "execution_count": 43,
                    "metadata": {},
                    "output_type": "execute_result"
                }
            ],
            "source": "df_se_top.shape"
        },
        {
            "cell_type": "code",
            "execution_count": 44,
            "metadata": {},
            "outputs": [
                {
                    "data": {
                        "text/plain": "(80, 3)"
                    },
                    "execution_count": 44,
                    "metadata": {},
                    "output_type": "execute_result"
                }
            ],
            "source": "df_se.shape"
        },
        {
            "cell_type": "markdown",
            "metadata": {},
            "source": "So we have our working dataframe to be df_se_top to work with.\n\n#### 2.1.2 Dataset 2:\nIn obtaining the location data of the locations, the Geocoder package is used with the arcgis_geocoder to obtain the latitude and longitude of the needed locations.\n\nThese will help to create a new dataframe that will be used subsequently for the South East London areas."
        },
        {
            "cell_type": "code",
            "execution_count": 45,
            "metadata": {},
            "outputs": [],
            "source": "# Defining a function to use --> get_latlng()'''\ndef get_latlng(arcgis_geocoder):\n    \n    # Initialize the Location (lat. and long.) to \"None\"\n    lat_lng_coords = None\n    \n    # While loop helps to create a continous run until all the location coordinates are geocoded\n    while(lat_lng_coords is None):\n        g = geocoder.arcgis('{}, London, United Kingdom'.format(arcgis_geocoder))\n        lat_lng_coords = g.latlng\n    return lat_lng_coords\n# Geocoder ends here"
        },
        {
            "cell_type": "code",
            "execution_count": 46,
            "metadata": {},
            "outputs": [
                {
                    "data": {
                        "text/plain": "[51.492450000000076, 0.12127000000003818]"
                    },
                    "execution_count": 46,
                    "metadata": {},
                    "output_type": "execute_result"
                }
            ],
            "source": "sample = get_latlng('SE2')\nsample"
        },
        {
            "cell_type": "code",
            "execution_count": 49,
            "metadata": {},
            "outputs": [
                {
                    "name": "stderr",
                    "output_type": "stream",
                    "text": "Status code Unknown from https://www.geocode.farm/v3/json/reverse/: ERROR - HTTPSConnectionPool(host='www.geocode.farm', port=443): Max retries exceeded with url: /v3/json/reverse/?lat=51.492450000000076&lon=0.12127000000003818&lang=&country= (Caused by ConnectTimeoutError(<urllib3.connection.VerifiedHTTPSConnection object at 0x7f3f06369358>, 'Connection to www.geocode.farm timed out. (connect timeout=5.0)'))\n"
                },
                {
                    "data": {
                        "text/plain": "<[ERROR - HTTPSConnectionPool(host='www.geocode.farm', port=443): Max retries exceeded with url: /v3/json/reverse/?lat=51.492450000000076&lon=0.12127000000003818&lang=&country= (Caused by ConnectTimeoutError(<urllib3.connection.VerifiedHTTPSConnection object at 0x7f3f06369358>, 'Connection to www.geocode.farm timed out. (connect timeout=5.0)'))] Geocodefarm - Reverse [empty]>"
                    },
                    "execution_count": 49,
                    "metadata": {},
                    "output_type": "execute_result"
                }
            ],
            "source": "gg = geocoder.geocodefarm(sample, method = 'reverse')\ngg\n"
        },
        {
            "cell_type": "code",
            "execution_count": 50,
            "metadata": {},
            "outputs": [
                {
                    "name": "stdout",
                    "output_type": "stream",
                    "text": "Time of execution:  25.376516580581665 seconds\n"
                }
            ],
            "source": "start = time.time()\n\npostal_codes = df_se_top['Postcode']    \ncoordinates = [get_latlng(postal_code) for postal_code in postal_codes.tolist()]\n\nend = time.time()\nprint(\"Time of execution: \", end - start, \"seconds\")"
        },
        {
            "cell_type": "code",
            "execution_count": 51,
            "metadata": {},
            "outputs": [],
            "source": "df_se_loc = df_se_top\n\n# The obtained coordinates (latitude and longitude) are joined with the dataframe as shown\ndf_se_coordinates = pd.DataFrame(coordinates, columns = ['Latitude', 'Longitude'])\ndf_se_loc['Latitude'] = df_se_coordinates['Latitude']\ndf_se_loc['Longitude'] = df_se_coordinates['Longitude']"
        },
        {
            "cell_type": "code",
            "execution_count": 52,
            "metadata": {},
            "outputs": [
                {
                    "data": {
                        "text/html": "<div>\n<style scoped>\n    .dataframe tbody tr th:only-of-type {\n        vertical-align: middle;\n    }\n\n    .dataframe tbody tr th {\n        vertical-align: top;\n    }\n\n    .dataframe thead th {\n        text-align: right;\n    }\n</style>\n<table border=\"1\" class=\"dataframe\">\n  <thead>\n    <tr style=\"text-align: right;\">\n      <th></th>\n      <th>Location</th>\n      <th>Borough</th>\n      <th>Postcode</th>\n      <th>Latitude</th>\n      <th>Longitude</th>\n    </tr>\n  </thead>\n  <tbody>\n    <tr>\n      <th>0</th>\n      <td>Crofton Park</td>\n      <td>Lewisham</td>\n      <td>SE4</td>\n      <td>51.46268</td>\n      <td>-0.03558</td>\n    </tr>\n    <tr>\n      <th>1</th>\n      <td>Denmark Hill</td>\n      <td>Southwark</td>\n      <td>SE5</td>\n      <td>51.47480</td>\n      <td>-0.09313</td>\n    </tr>\n    <tr>\n      <th>2</th>\n      <td>Deptford</td>\n      <td>Lewisham</td>\n      <td>SE8</td>\n      <td>51.48114</td>\n      <td>-0.02467</td>\n    </tr>\n    <tr>\n      <th>3</th>\n      <td>Dulwich</td>\n      <td>Southwark</td>\n      <td>SE21</td>\n      <td>51.44100</td>\n      <td>-0.08897</td>\n    </tr>\n    <tr>\n      <th>4</th>\n      <td>East Dulwich</td>\n      <td>Southwark</td>\n      <td>SE22</td>\n      <td>51.45256</td>\n      <td>-0.07076</td>\n    </tr>\n  </tbody>\n</table>\n</div>",
                        "text/plain": "       Location    Borough Postcode  Latitude  Longitude\n0  Crofton Park   Lewisham      SE4  51.46268   -0.03558\n1  Denmark Hill  Southwark      SE5  51.47480   -0.09313\n2      Deptford   Lewisham      SE8  51.48114   -0.02467\n3       Dulwich  Southwark     SE21  51.44100   -0.08897\n4  East Dulwich  Southwark     SE22  51.45256   -0.07076"
                    },
                    "execution_count": 52,
                    "metadata": {},
                    "output_type": "execute_result"
                }
            ],
            "source": "df_se_loc.head(5)"
        },
        {
            "cell_type": "code",
            "execution_count": 53,
            "metadata": {},
            "outputs": [],
            "source": "df_se_loc.to_csv('SELondonLocationsCoordinates.csv', index = False)"
        },
        {
            "cell_type": "code",
            "execution_count": 54,
            "metadata": {},
            "outputs": [
                {
                    "data": {
                        "text/plain": "(46, 5)"
                    },
                    "execution_count": 54,
                    "metadata": {},
                    "output_type": "execute_result"
                }
            ],
            "source": "df_se_loc.shape"
        },
        {
            "cell_type": "markdown",
            "metadata": {},
            "source": "#### 2.1.3 Dataset 3:\nThe Foursquare API will be used to obtain the South East London Area venues for the geographical location data . These will be used to explore the neighbourhoods of London acordingly.\n\nThe venues within the neighbourhoods of South East London like the areas's restaurants and proximity to amenities would be correlated. Also, accessibility and ease of supplies would be considered as it relates to venues.\n\nTo use the Foursquare API, we define the Foursquare Credentials and Version as shown below:\n\nPlease note that due to privacy, the personal Foursquare Credential has been stored in a .json <fsquarecredential.json> and called appropriately as shown below:"
        },
        {
            "cell_type": "markdown",
            "metadata": {},
            "source": "## 3. Methodology\n### 3.1 Data Exploration\n#### 3.1.1 Single Neighbourhood\nAn initial exploration of a single Neighbourhood within the London area was done to examine the Foursquare workability. The Lewisham Borough postcode SE13 and Location - Lewisham is used for this."
        },
        {
            "cell_type": "code",
            "execution_count": 57,
            "metadata": {},
            "outputs": [],
            "source": "# Resets the current index to a new\nse_df = df_se_loc.reset_index().drop('index', axis = 1)"
        },
        {
            "cell_type": "code",
            "execution_count": 58,
            "metadata": {},
            "outputs": [
                {
                    "data": {
                        "text/plain": "(46, 5)"
                    },
                    "execution_count": 58,
                    "metadata": {},
                    "output_type": "execute_result"
                }
            ],
            "source": "se_df.shape"
        },
        {
            "cell_type": "code",
            "execution_count": 59,
            "metadata": {},
            "outputs": [
                {
                    "data": {
                        "text/html": "<div>\n<style scoped>\n    .dataframe tbody tr th:only-of-type {\n        vertical-align: middle;\n    }\n\n    .dataframe tbody tr th {\n        vertical-align: top;\n    }\n\n    .dataframe thead th {\n        text-align: right;\n    }\n</style>\n<table border=\"1\" class=\"dataframe\">\n  <thead>\n    <tr style=\"text-align: right;\">\n      <th></th>\n      <th>Location</th>\n      <th>Borough</th>\n      <th>Postcode</th>\n      <th>Latitude</th>\n      <th>Longitude</th>\n    </tr>\n  </thead>\n  <tbody>\n    <tr>\n      <th>0</th>\n      <td>Crofton Park</td>\n      <td>Lewisham</td>\n      <td>SE4</td>\n      <td>51.46268</td>\n      <td>-0.03558</td>\n    </tr>\n    <tr>\n      <th>1</th>\n      <td>Denmark Hill</td>\n      <td>Southwark</td>\n      <td>SE5</td>\n      <td>51.47480</td>\n      <td>-0.09313</td>\n    </tr>\n    <tr>\n      <th>2</th>\n      <td>Deptford</td>\n      <td>Lewisham</td>\n      <td>SE8</td>\n      <td>51.48114</td>\n      <td>-0.02467</td>\n    </tr>\n    <tr>\n      <th>3</th>\n      <td>Dulwich</td>\n      <td>Southwark</td>\n      <td>SE21</td>\n      <td>51.44100</td>\n      <td>-0.08897</td>\n    </tr>\n    <tr>\n      <th>4</th>\n      <td>East Dulwich</td>\n      <td>Southwark</td>\n      <td>SE22</td>\n      <td>51.45256</td>\n      <td>-0.07076</td>\n    </tr>\n    <tr>\n      <th>5</th>\n      <td>Elephant and Castle</td>\n      <td>Southwark</td>\n      <td>SE1</td>\n      <td>51.49996</td>\n      <td>-0.09568</td>\n    </tr>\n    <tr>\n      <th>6</th>\n      <td>Elephant and Castle</td>\n      <td>Southwark</td>\n      <td>SE11</td>\n      <td>51.49084</td>\n      <td>-0.11108</td>\n    </tr>\n    <tr>\n      <th>7</th>\n      <td>Elephant and Castle</td>\n      <td>Southwark</td>\n      <td>SE17</td>\n      <td>51.48764</td>\n      <td>-0.09542</td>\n    </tr>\n    <tr>\n      <th>8</th>\n      <td>Bankside</td>\n      <td>Southwark</td>\n      <td>SE1</td>\n      <td>51.49996</td>\n      <td>-0.09568</td>\n    </tr>\n    <tr>\n      <th>9</th>\n      <td>Forest Hill</td>\n      <td>Lewisham</td>\n      <td>SE23</td>\n      <td>51.44122</td>\n      <td>-0.04764</td>\n    </tr>\n    <tr>\n      <th>10</th>\n      <td>Gipsy Hill</td>\n      <td>Lambeth</td>\n      <td>SE19</td>\n      <td>51.41990</td>\n      <td>-0.08808</td>\n    </tr>\n    <tr>\n      <th>11</th>\n      <td>Gipsy Hill</td>\n      <td>Lambeth</td>\n      <td>SE27</td>\n      <td>51.43407</td>\n      <td>-0.10375</td>\n    </tr>\n    <tr>\n      <th>12</th>\n      <td>Grove Park</td>\n      <td>Lewisham</td>\n      <td>SE12</td>\n      <td>51.44759</td>\n      <td>0.01350</td>\n    </tr>\n    <tr>\n      <th>13</th>\n      <td>Herne Hill</td>\n      <td>Lambeth</td>\n      <td>SE24</td>\n      <td>51.45529</td>\n      <td>-0.09928</td>\n    </tr>\n    <tr>\n      <th>14</th>\n      <td>Hither Green</td>\n      <td>Lewisham</td>\n      <td>SE13</td>\n      <td>51.46196</td>\n      <td>-0.00754</td>\n    </tr>\n    <tr>\n      <th>15</th>\n      <td>Honor Oak</td>\n      <td>Lewisham</td>\n      <td>SE23</td>\n      <td>51.44122</td>\n      <td>-0.04764</td>\n    </tr>\n    <tr>\n      <th>16</th>\n      <td>Ladywell</td>\n      <td>Lewisham</td>\n      <td>SE4</td>\n      <td>51.46268</td>\n      <td>-0.03558</td>\n    </tr>\n    <tr>\n      <th>17</th>\n      <td>Ladywell</td>\n      <td>Lewisham</td>\n      <td>SE13</td>\n      <td>51.46196</td>\n      <td>-0.00754</td>\n    </tr>\n    <tr>\n      <th>18</th>\n      <td>Lambeth</td>\n      <td>Lambeth</td>\n      <td>SE1</td>\n      <td>51.49996</td>\n      <td>-0.09568</td>\n    </tr>\n    <tr>\n      <th>19</th>\n      <td>Lee</td>\n      <td>Lewisham</td>\n      <td>SE12</td>\n      <td>51.44759</td>\n      <td>0.01350</td>\n    </tr>\n    <tr>\n      <th>20</th>\n      <td>Lewisham</td>\n      <td>Lewisham</td>\n      <td>SE13</td>\n      <td>51.46196</td>\n      <td>-0.00754</td>\n    </tr>\n    <tr>\n      <th>21</th>\n      <td>New Cross</td>\n      <td>Lewisham</td>\n      <td>SE14</td>\n      <td>51.47489</td>\n      <td>-0.04038</td>\n    </tr>\n    <tr>\n      <th>22</th>\n      <td>Newington</td>\n      <td>Southwark</td>\n      <td>SE1</td>\n      <td>51.49996</td>\n      <td>-0.09568</td>\n    </tr>\n    <tr>\n      <th>23</th>\n      <td>Newington</td>\n      <td>Southwark</td>\n      <td>SE17</td>\n      <td>51.48764</td>\n      <td>-0.09542</td>\n    </tr>\n    <tr>\n      <th>24</th>\n      <td>Nunhead</td>\n      <td>Southwark</td>\n      <td>SE15</td>\n      <td>51.47218</td>\n      <td>-0.06779</td>\n    </tr>\n    <tr>\n      <th>25</th>\n      <td>Oval</td>\n      <td>Lambeth</td>\n      <td>SE11</td>\n      <td>51.49084</td>\n      <td>-0.11108</td>\n    </tr>\n    <tr>\n      <th>26</th>\n      <td>Bellingham</td>\n      <td>Lewisham</td>\n      <td>SE6</td>\n      <td>51.43722</td>\n      <td>-0.01868</td>\n    </tr>\n    <tr>\n      <th>27</th>\n      <td>Peckham</td>\n      <td>Southwark</td>\n      <td>SE15</td>\n      <td>51.47218</td>\n      <td>-0.06779</td>\n    </tr>\n    <tr>\n      <th>28</th>\n      <td>Rotherhithe</td>\n      <td>Southwark</td>\n      <td>SE16</td>\n      <td>51.49574</td>\n      <td>-0.05157</td>\n    </tr>\n    <tr>\n      <th>29</th>\n      <td>Selhurst</td>\n      <td>Croydon</td>\n      <td>SE25</td>\n      <td>51.39925</td>\n      <td>-0.07414</td>\n    </tr>\n    <tr>\n      <th>30</th>\n      <td>Bermondsey</td>\n      <td>Southwark</td>\n      <td>SE1</td>\n      <td>51.49996</td>\n      <td>-0.09568</td>\n    </tr>\n    <tr>\n      <th>31</th>\n      <td>South Norwood</td>\n      <td>Croydon</td>\n      <td>SE25</td>\n      <td>51.39925</td>\n      <td>-0.07414</td>\n    </tr>\n    <tr>\n      <th>32</th>\n      <td>Southend</td>\n      <td>Lewisham</td>\n      <td>SE6</td>\n      <td>51.43722</td>\n      <td>-0.01868</td>\n    </tr>\n    <tr>\n      <th>33</th>\n      <td>St Johns</td>\n      <td>Lewisham</td>\n      <td>SE4</td>\n      <td>51.46268</td>\n      <td>-0.03558</td>\n    </tr>\n    <tr>\n      <th>34</th>\n      <td>Surrey Quays</td>\n      <td>Southwark</td>\n      <td>SE16</td>\n      <td>51.49574</td>\n      <td>-0.05157</td>\n    </tr>\n    <tr>\n      <th>35</th>\n      <td>Tulse Hill</td>\n      <td>Lambeth</td>\n      <td>SE24</td>\n      <td>51.45529</td>\n      <td>-0.09928</td>\n    </tr>\n    <tr>\n      <th>36</th>\n      <td>Tulse Hill</td>\n      <td>Lambeth</td>\n      <td>SE27</td>\n      <td>51.43407</td>\n      <td>-0.10375</td>\n    </tr>\n    <tr>\n      <th>37</th>\n      <td>Upper Norwood</td>\n      <td>Croydon</td>\n      <td>SE19</td>\n      <td>51.41990</td>\n      <td>-0.08808</td>\n    </tr>\n    <tr>\n      <th>38</th>\n      <td>Walworth</td>\n      <td>Southwark</td>\n      <td>SE17</td>\n      <td>51.48764</td>\n      <td>-0.09542</td>\n    </tr>\n    <tr>\n      <th>39</th>\n      <td>Blackheath</td>\n      <td>Lewisham</td>\n      <td>SE3</td>\n      <td>51.47138</td>\n      <td>0.02338</td>\n    </tr>\n    <tr>\n      <th>40</th>\n      <td>West Norwood</td>\n      <td>Lambeth</td>\n      <td>SE27</td>\n      <td>51.43407</td>\n      <td>-0.10375</td>\n    </tr>\n    <tr>\n      <th>41</th>\n      <td>Brixton</td>\n      <td>Lambeth</td>\n      <td>SE5</td>\n      <td>51.47480</td>\n      <td>-0.09313</td>\n    </tr>\n    <tr>\n      <th>42</th>\n      <td>Brockley</td>\n      <td>Lewisham</td>\n      <td>SE4</td>\n      <td>51.46268</td>\n      <td>-0.03558</td>\n    </tr>\n    <tr>\n      <th>43</th>\n      <td>Camberwell</td>\n      <td>Southwark</td>\n      <td>SE5</td>\n      <td>51.47480</td>\n      <td>-0.09313</td>\n    </tr>\n    <tr>\n      <th>44</th>\n      <td>Catford</td>\n      <td>Lewisham</td>\n      <td>SE6</td>\n      <td>51.43722</td>\n      <td>-0.01868</td>\n    </tr>\n    <tr>\n      <th>45</th>\n      <td>Chinbrook</td>\n      <td>Lewisham</td>\n      <td>SE12</td>\n      <td>51.44759</td>\n      <td>0.01350</td>\n    </tr>\n  </tbody>\n</table>\n</div>",
                        "text/plain": "               Location    Borough Postcode  Latitude  Longitude\n0          Crofton Park   Lewisham      SE4  51.46268   -0.03558\n1          Denmark Hill  Southwark      SE5  51.47480   -0.09313\n2              Deptford   Lewisham      SE8  51.48114   -0.02467\n3               Dulwich  Southwark     SE21  51.44100   -0.08897\n4          East Dulwich  Southwark     SE22  51.45256   -0.07076\n5   Elephant and Castle  Southwark      SE1  51.49996   -0.09568\n6   Elephant and Castle  Southwark     SE11  51.49084   -0.11108\n7   Elephant and Castle  Southwark     SE17  51.48764   -0.09542\n8              Bankside  Southwark      SE1  51.49996   -0.09568\n9           Forest Hill   Lewisham     SE23  51.44122   -0.04764\n10           Gipsy Hill    Lambeth     SE19  51.41990   -0.08808\n11           Gipsy Hill    Lambeth     SE27  51.43407   -0.10375\n12           Grove Park   Lewisham     SE12  51.44759    0.01350\n13           Herne Hill    Lambeth     SE24  51.45529   -0.09928\n14         Hither Green   Lewisham     SE13  51.46196   -0.00754\n15            Honor Oak   Lewisham     SE23  51.44122   -0.04764\n16             Ladywell   Lewisham      SE4  51.46268   -0.03558\n17             Ladywell   Lewisham     SE13  51.46196   -0.00754\n18              Lambeth    Lambeth      SE1  51.49996   -0.09568\n19                  Lee   Lewisham     SE12  51.44759    0.01350\n20             Lewisham   Lewisham     SE13  51.46196   -0.00754\n21            New Cross   Lewisham     SE14  51.47489   -0.04038\n22            Newington  Southwark      SE1  51.49996   -0.09568\n23            Newington  Southwark     SE17  51.48764   -0.09542\n24              Nunhead  Southwark     SE15  51.47218   -0.06779\n25                 Oval    Lambeth     SE11  51.49084   -0.11108\n26           Bellingham   Lewisham      SE6  51.43722   -0.01868\n27              Peckham  Southwark     SE15  51.47218   -0.06779\n28          Rotherhithe  Southwark     SE16  51.49574   -0.05157\n29             Selhurst    Croydon     SE25  51.39925   -0.07414\n30           Bermondsey  Southwark      SE1  51.49996   -0.09568\n31        South Norwood    Croydon     SE25  51.39925   -0.07414\n32             Southend   Lewisham      SE6  51.43722   -0.01868\n33             St Johns   Lewisham      SE4  51.46268   -0.03558\n34         Surrey Quays  Southwark     SE16  51.49574   -0.05157\n35           Tulse Hill    Lambeth     SE24  51.45529   -0.09928\n36           Tulse Hill    Lambeth     SE27  51.43407   -0.10375\n37        Upper Norwood    Croydon     SE19  51.41990   -0.08808\n38             Walworth  Southwark     SE17  51.48764   -0.09542\n39           Blackheath   Lewisham      SE3  51.47138    0.02338\n40         West Norwood    Lambeth     SE27  51.43407   -0.10375\n41              Brixton    Lambeth      SE5  51.47480   -0.09313\n42             Brockley   Lewisham      SE4  51.46268   -0.03558\n43           Camberwell  Southwark      SE5  51.47480   -0.09313\n44              Catford   Lewisham      SE6  51.43722   -0.01868\n45            Chinbrook   Lewisham     SE12  51.44759    0.01350"
                    },
                    "execution_count": 59,
                    "metadata": {},
                    "output_type": "execute_result"
                }
            ],
            "source": "se_df"
        },
        {
            "cell_type": "code",
            "execution_count": 60,
            "metadata": {},
            "outputs": [
                {
                    "data": {
                        "text/html": "<div>\n<style scoped>\n    .dataframe tbody tr th:only-of-type {\n        vertical-align: middle;\n    }\n\n    .dataframe tbody tr th {\n        vertical-align: top;\n    }\n\n    .dataframe thead th {\n        text-align: right;\n    }\n</style>\n<table border=\"1\" class=\"dataframe\">\n  <thead>\n    <tr style=\"text-align: right;\">\n      <th></th>\n      <th>Location</th>\n      <th>Borough</th>\n      <th>Postcode</th>\n      <th>Latitude</th>\n      <th>Longitude</th>\n    </tr>\n  </thead>\n  <tbody>\n    <tr>\n      <th>20</th>\n      <td>Lewisham</td>\n      <td>Lewisham</td>\n      <td>SE13</td>\n      <td>51.46196</td>\n      <td>-0.00754</td>\n    </tr>\n  </tbody>\n</table>\n</div>",
                        "text/plain": "    Location   Borough Postcode  Latitude  Longitude\n20  Lewisham  Lewisham     SE13  51.46196   -0.00754"
                    },
                    "execution_count": 60,
                    "metadata": {},
                    "output_type": "execute_result"
                }
            ],
            "source": "se_df.loc[se_df['Location'] == 'Lewisham']"
        },
        {
            "cell_type": "code",
            "execution_count": 61,
            "metadata": {},
            "outputs": [
                {
                    "data": {
                        "text/plain": "'Lewisham'"
                    },
                    "execution_count": 61,
                    "metadata": {},
                    "output_type": "execute_result"
                }
            ],
            "source": "se_df.loc[20, 'Location']"
        },
        {
            "cell_type": "code",
            "execution_count": 62,
            "metadata": {},
            "outputs": [
                {
                    "name": "stdout",
                    "output_type": "stream",
                    "text": "The latitude and longitude values of Lewisham with postcode SE13, are 51.46196000000003, -0.007539999999949032.\n"
                }
            ],
            "source": "lewisham_lat = se_df.loc[20, 'Latitude']\nlewisham_long = se_df.loc[20, 'Longitude']\nlewisham_loc = se_df.loc[20, 'Location']\nlewisham_postcode = se_df.loc[20, 'Postcode']\n\nprint('The latitude and longitude values of {} with postcode {}, are {}, {}.'.format(lewisham_loc,\n                                                                                         lewisham_postcode,\n                                                                                         lewisham_lat,\n                                                                                         lewisham_long))"
        },
        {
            "cell_type": "code",
            "execution_count": 66,
            "metadata": {},
            "outputs": [],
            "source": "# function that extracts the category of the venue\ndef get_category_type(row):\n    try:\n        categories_list = row['categories']\n    except:\n        categories_list = row['venue.categories']\n        \n    if len(categories_list) == 0:\n        return None\n    else:\n        return categories_list[0]['name']"
        },
        {
            "cell_type": "markdown",
            "metadata": {},
            "source": "#### 3.1.2 Multiple Neighbourhoods\nNow let's explore (Multiple) Neighborhoods in the South East London area.\n\nTo do this, the function getNearbyVenues is used and it's created to repeat the same process for all neighborhoods."
        },
        {
            "cell_type": "code",
            "execution_count": 72,
            "metadata": {},
            "outputs": [
                {
                    "name": "stdout",
                    "output_type": "stream",
                    "text": "The geograpical coordinate of London are 51.5073219, -0.1276474.\n"
                }
            ],
            "source": "address = 'London, United Kingdom'\n\ngeolocator = Nominatim(user_agent=\"ln_explorer\")\nlocation = geolocator.geocode(address)\nlatitude = location.latitude\nlongitude = location.longitude\nprint('The geograpical coordinate of London are {}, {}.'.format(latitude, longitude))"
        },
        {
            "cell_type": "code",
            "execution_count": 73,
            "metadata": {},
            "outputs": [
                {
                    "data": {
                        "text/html": "<div style=\"width:100%;\"><div style=\"position:relative;width:100%;height:0;padding-bottom:60%;\"><iframe src=\"about:blank\" style=\"position:absolute;width:100%;height:100%;left:0;top:0;border:none !important;\" data-html=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 onload=\"this.contentDocument.open();this.contentDocument.write(atob(this.getAttribute('data-html')));this.contentDocument.close();\" allowfullscreen webkitallowfullscreen mozallowfullscreen></iframe></div></div>",
                        "text/plain": "<folium.folium.Map at 0x7f3f06071390>"
                    },
                    "execution_count": 73,
                    "metadata": {},
                    "output_type": "execute_result"
                }
            ],
            "source": "# df_london_coordinates\nmap_london = folium.Map(location = [latitude, longitude], zoom_start = 12)\nmap_london\n"
        },
        {
            "cell_type": "code",
            "execution_count": 74,
            "metadata": {},
            "outputs": [
                {
                    "data": {
                        "text/html": "<div style=\"width:100%;\"><div style=\"position:relative;width:100%;height:0;padding-bottom:60%;\"><iframe src=\"about:blank\" style=\"position:absolute;width:100%;height:100%;left:0;top:0;border:none !important;\" data-html=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 onload=\"this.contentDocument.open();this.contentDocument.write(atob(this.getAttribute('data-html')));this.contentDocument.close();\" allowfullscreen webkitallowfullscreen mozallowfullscreen></iframe></div></div>",
                        "text/plain": "<folium.folium.Map at 0x7f3f06071390>"
                    },
                    "metadata": {},
                    "output_type": "display_data"
                }
            ],
            "source": "# Adding markers to map\nfor lat, lng, borough, loc in zip(se_df['Latitude'], \n                                  se_df['Longitude'],\n                                  se_df['Borough'],\n                                  se_df['Location']):\n    label = '{} - {}'.format(loc, borough)\n    label = folium.Popup(label, parse_html=True)\n    folium.CircleMarker(\n        [lat, lng],\n        radius=5,\n        popup=label,\n        color='blue',\n        fill=True,\n        fill_color='#3186cc',\n        fill_opacity=0.7).add_to(map_london)  \n    \ndisplay(map_london)"
        },
        {
            "cell_type": "code",
            "execution_count": 75,
            "metadata": {},
            "outputs": [
                {
                    "data": {
                        "text/plain": "pandas.core.frame.DataFrame"
                    },
                    "execution_count": 75,
                    "metadata": {},
                    "output_type": "execute_result"
                }
            ],
            "source": "type(se_df)"
        },
        {
            "cell_type": "markdown",
            "metadata": {},
            "source": "#### 3.2.3 Analysing Each Neighborhood\nIn this section, the objective is to check and explore the venues in each neighbourhood.\n\nOne Hot Encoding"
        },
        {
            "cell_type": "markdown",
            "metadata": {},
            "source": "#### 3.2.4 Clustering of Neighbourhoods\nThe next thing to do now, is to create clusters of the neighbourhood using the k-means to cluster the neighbourhood into 5 clusters."
        },
        {
            "cell_type": "markdown",
            "metadata": {},
            "source": "#### 3.2.5 Optimal Number of Clusters for K-mean\nTo get the optimal number of clusters to be used for the K-mean, there are a number ways possible for the evaluation. Therefore, in this task, the following are used:\n\n1. Elbow (Criterion) Method 2. Silhouette Coefficient\n### 1. Elbow Method\n\nThe elbow method is used to solve the problem of selecting k. Interestingly, the elbow method is not perfect either but it gives significant insight that is perhaps not top optimal but sub-optimal to choosing the optimal number of clusters by fitting the model with a range of values for k.\n\nThe approach for this is to run the k-means clustering for a range of value k and for each value of k, the Sum of the Squared Errors (SSE) is calculated., calculate sum of squared errors (SSE). When this is done, a plot of k and the corresponding SSEs are then made. At the elbow (just like arm), that is where the optimal value of k is. And that will be the number of clusters to be used. The whole idea is to have minimum SSE."
        },
        {
            "cell_type": "code",
            "execution_count": 81,
            "metadata": {},
            "outputs": [],
            "source": "\n%matplotlib inline\nimport matplotlib\nimport numpy as np"
        },
        {
            "cell_type": "code",
            "execution_count": null,
            "metadata": {},
            "outputs": [],
            "source": ""
        }
    ],
    "metadata": {
        "kernelspec": {
            "display_name": "Python 3.6",
            "language": "python",
            "name": "python3"
        },
        "language_info": {
            "codemirror_mode": {
                "name": "ipython",
                "version": 3
            },
            "file_extension": ".py",
            "mimetype": "text/x-python",
            "name": "python",
            "nbconvert_exporter": "python",
            "pygments_lexer": "ipython3",
            "version": "3.6.9"
        }
    },
    "nbformat": 4,
    "nbformat_minor": 1
}